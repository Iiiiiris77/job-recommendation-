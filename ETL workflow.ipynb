{
 "cells": [
  {
   "attachments": {},
   "cell_type": "markdown",
   "metadata": {},
   "source": [
    "## ETL workflow"
   ]
  },
  {
   "attachments": {},
   "cell_type": "markdown",
   "metadata": {},
   "source": [
    "### Extract Raw Data"
   ]
  },
  {
   "attachments": {},
   "cell_type": "markdown",
   "metadata": {},
   "source": [
    "#### Extract data from first API: JSearch\n",
    "https://rapidapi.com/letscrape-6bRBa3QguO5/api/jsearch/"
   ]
  },
  {
   "cell_type": "code",
   "execution_count": 50,
   "metadata": {},
   "outputs": [],
   "source": [
    "def api_1_mongo(api_data, collection):\n",
    "    job_dict = {}\n",
    "    for i in range(len(api_data[\"data\"])):\n",
    "            job_dict = api_data[\"data\"][i]\n",
    "            collection.insert_one(job_dict)"
   ]
  },
  {
   "cell_type": "code",
   "execution_count": 51,
   "metadata": {},
   "outputs": [],
   "source": [
    "import pymongo\n",
    "import requests\n",
    "\n",
    "# connect to mogoDB\n",
    "client = pymongo.MongoClient(\"mongodb://localhost:27017/\")\n",
    "db = client[\"bigdata\"]\n",
    "\n",
    "url = \"https://jsearch.p.rapidapi.com/search\"\n",
    "\n",
    "query_jobs = [\"Software Engineer\", \"Technical Manager\", \"Data Scientist\",  \"Researcher\", \"Cloud Developer\"]\n",
    "collection_list = [\"software_engineer\",\"technical_manager\", \"data_scientist\",  \"researcher\", \"cloud_developer\"]\n",
    "headers = {\n",
    "\t\"content-type\": \"application/octet-stream\",\n",
    "\t\"X-RapidAPI-Key\": \"5dcca9a446mshc45e979b7c63b61p110313jsn2355dc91241e\",\n",
    "\t\"X-RapidAPI-Host\": \"jsearch.p.rapidapi.com\"\n",
    "}\n",
    "\n",
    "for i in range(len(query_jobs)):\n",
    "    querystring = {\"query\":query_jobs[i],\"page\":\"1\",\"num_pages\":\"20\",\"date_posted\":\"all\"}\n",
    "    response = requests.get(url, headers=headers, params=querystring)\n",
    "    data_dict = response.json()\n",
    "    collection = db[collection_list[i]]\n",
    "    api_1_mongo(data_dict, collection)\n",
    "\n"
   ]
  },
  {
   "attachments": {},
   "cell_type": "markdown",
   "metadata": {},
   "source": [
    "#### Extract data from second API: linked in \n",
    "https://rapidapi.com/jaypat87/api/linkedin-jobs-search/\n"
   ]
  },
  {
   "cell_type": "code",
   "execution_count": 63,
   "metadata": {},
   "outputs": [],
   "source": [
    "def api_2_mongo(apidata, collection):\n",
    "   for i, item in enumerate(apidata):\n",
    "      if isinstance(item, dict):\n",
    "         collection.insert_one(item)\n",
    "         "
   ]
  },
  {
   "cell_type": "code",
   "execution_count": 64,
   "metadata": {},
   "outputs": [],
   "source": [
    "import requests\n",
    "url = \"https://linkedin-jobs-search.p.rapidapi.com/\"\n",
    "\n",
    "headers = {\n",
    " \"content-type\": \"application/json\",\n",
    " \"X-RapidAPI-Key\": \"5dcca9a446mshc45e979b7c63b61p110313jsn2355dc91241e\",\n",
    " \"X-RapidAPI-Host\": \"linkedin-jobs-search.p.rapidapi.com\"\n",
    "}\n",
    "\n",
    "\n",
    "for i in range(len(query_jobs)):\n",
    "    payload = {\n",
    "\t\t\"search_terms\":query_jobs[i],\n",
    "\t\t\"location\": \"United States\",\n",
    "\t\t\"page\": 1\n",
    "\t\t}\n",
    "    response = requests.post(url, json=payload, headers=headers)\n",
    "    data_dict = response.json()\n",
    "    collection = db[collection_list[i]]\n",
    "    api_2_mongo(data_dict, collection)\n",
    "        \n"
   ]
  },
  {
   "attachments": {},
   "cell_type": "markdown",
   "metadata": {},
   "source": [
    "#### Extract data from third API\n",
    "Indeed, Talent, Snagajob, Careerbuilder and Nexxt\n",
    "\n",
    "https://rapidapi.com/jaypat87/api/indeed11\n",
    "\n",
    "This APi is used for get pay for each job"
   ]
  },
  {
   "cell_type": "code",
   "execution_count": 17,
   "metadata": {},
   "outputs": [],
   "source": [
    "def api_3_mongo(apidata, collection, location):\n",
    "   try:\n",
    "      for item in apidata[\"results\"]:\n",
    "          insert_dict = {\"location\" :location}\n",
    "          insert_dict['job_title'] = item['job']['job_title']\n",
    "          insert_dict['company'] = item['job']['company']\n",
    "          insert_dict['job_details'] = item['job_details']['link']\n",
    "          insert_dict['pay'] = item['job_details']['pay']\n",
    "          collection.insert_one(insert_dict)\n",
    "   except KeyError:\n",
    "      print(apidata)"
   ]
  },
  {
   "cell_type": "code",
   "execution_count": 18,
   "metadata": {},
   "outputs": [
    {
     "name": "stdout",
     "output_type": "stream",
     "text": [
      "new collections:  ['software_engineer_pay', 'technical_manager_pay', 'data_scientist_pay', 'researcher_pay', 'cloud_developer_pay']\n",
      "{'message': 'You have exceeded the MONTHLY quota for Requests on your current plan, BASIC. Upgrade your plan at https://rapidapi.com/fastapply/api/job-board-search-fastapply'}\n"
     ]
    }
   ],
   "source": [
    "import requests\n",
    "url = \"https://job-board-search-fastapply.p.rapidapi.com/us/snagajob/fetchjobs\"\n",
    "headers =[{\n",
    "\t\"content-type\": \"application/json\",\n",
    "\t\"X-RapidAPI-Key\": \"394d899556msh4f0740173b447c1p1e6a45jsnfd1521c2520f\",\n",
    "\t\"X-RapidAPI-Host\": \"job-board-search-fastapply.p.rapidapi.com\"\n",
    "},\n",
    " {\n",
    " \"content-type\": \"application/json\",\n",
    " \"X-RapidAPI-Key\": \"5dcca9a446mshc45e979b7c63b61p110313jsn2355dc91241e\",\n",
    " \"X-RapidAPI-Host\": \"job-board-search-fastapply.p.rapidapi.com\"\n",
    "},\n",
    "{\n",
    "    'content-type': 'application/json',\n",
    "    'X-RapidAPI-Key': 'a668dfde94msh4ef920baed52701p11288cjsnd7650a4668cf',\n",
    "    'X-RapidAPI-Host': 'job-board-search-fastapply.p.rapidapi.com'\n",
    "  },\n",
    "  {\n",
    "\t\"content-type\": \"application/json\",\n",
    "\t\"X-RapidAPI-Key\": \"84053fe846msh32e4835fd7634fcp161e65jsn2bab6bacf9cb\",\n",
    "\t\"X-RapidAPI-Host\": \"job-board-search-fastapply.p.rapidapi.com\"\n",
    "}\n",
    "] \n",
    "\n",
    "pay_collection_list = []\n",
    "\n",
    "for item in collection_list:\n",
    "    item =item.strip()+ \"_pay\"\n",
    "    pay_collection_list.append(item)\n",
    "print(\"new collections: \", pay_collection_list)\n",
    "\n",
    "locations = [\"New York\", \"California\", \"Washington\", \"Texas\",\"Illinois\", \"Remote\"]\n",
    "header_count = 0\n",
    "prev_data = None\n",
    "for i in range(len(query_jobs)):\n",
    "    for location in locations:\n",
    "        payload = {\n",
    "\t\t\"keyword\": query_jobs[i],\n",
    "\t\t\"location\": location,\n",
    "\t\t\"radius\": 15,\n",
    "\t\t\"page_number\": 1\n",
    "\t\t} \n",
    "        try:\n",
    "            response = requests.post(url, json=payload, headers=headers[header_count])\n",
    "        \n",
    "            if(response.json() == {'message': 'You have exceeded the rate limit per minute for your plan, BASIC, by the API provider'}):\n",
    "                header_count += 1\n",
    "                continue\n",
    "            if(response.json() == prev_data):\n",
    "                continue\n",
    "            \n",
    "            data_dict = response.json()\n",
    "            collection = db[pay_collection_list[i]]\n",
    "            api_3_mongo(data_dict, collection, location)\n",
    "            prev_data = response.json()\n",
    "        except IndexError:\n",
    "            print(\"end\")"
   ]
  },
  {
   "attachments": {},
   "cell_type": "markdown",
   "metadata": {},
   "source": [
    "### Transform Raw Data"
   ]
  },
  {
   "attachments": {},
   "cell_type": "markdown",
   "metadata": {},
   "source": [
    "#### Unify fields name from different APIs"
   ]
  },
  {
   "cell_type": "code",
   "execution_count": 65,
   "metadata": {},
   "outputs": [
    {
     "data": {
      "text/plain": [
       "<pymongo.results.UpdateResult at 0x117f38d90>"
      ]
     },
     "execution_count": 65,
     "metadata": {},
     "output_type": "execute_result"
    }
   ],
   "source": [
    "import pymongo\n",
    "\n",
    "# Connect to MongoDB\n",
    "client = pymongo.MongoClient('mongodb://localhost:27017')\n",
    "db = client['bigdata']\n",
    "collection = db['software_engineer']\n",
    "\n",
    "# Update the field name\n",
    "collection.update_many({}, {\"$rename\": {\"job_url\": \"job_apply_link\"}})\n"
   ]
  },
  {
   "attachments": {},
   "cell_type": "markdown",
   "metadata": {},
   "source": [
    "#### Clean Wrong Data(Title doeen't match with query's title)"
   ]
  },
  {
   "cell_type": "code",
   "execution_count": 19,
   "metadata": {},
   "outputs": [],
   "source": [
    "def clean_title_wrong_data(field, value, collection, colname):\n",
    "    query = {field : {\"$exists\":True}}\n",
    "    value_split = value.split()\n",
    "    documents = collection.find(query)\n",
    "    clean_count = 0\n",
    "    for doc in documents:\n",
    "        title = doc[field]\n",
    "        lower_title =title.lower()\n",
    "        for item in value_split:\n",
    "            if item in lower_title:\n",
    "                continue\n",
    "            else:\n",
    "                clean_count += 1\n",
    "                collection.find_one_and_delete({field : title})\n",
    "                \n",
    "    print(colname,\"collection cleaned data :\", clean_count)\n",
    "    \n",
    "    "
   ]
  },
  {
   "cell_type": "code",
   "execution_count": 20,
   "metadata": {},
   "outputs": [
    {
     "name": "stdout",
     "output_type": "stream",
     "text": [
      "software_engineer_pay collection cleaned data : 54\n",
      "technical_manager_pay collection cleaned data : 184\n",
      "data_scientist_pay collection cleaned data : 121\n",
      "researcher_pay collection cleaned data : 146\n",
      "cloud_developer_pay collection cleaned data : 271\n"
     ]
    }
   ],
   "source": [
    "client = pymongo.MongoClient(\"mongodb://localhost:27017/\")\n",
    "db = client[\"bigdata\"]\n",
    "\n",
    "for i in range(len(query_jobs)):\n",
    "    clean_title_wrong_data(field=\"job_title\", value = query_jobs[i].lower(), collection=db[pay_collection_list[i]], colname = pay_collection_list[i])"
   ]
  },
  {
   "attachments": {},
   "cell_type": "markdown",
   "metadata": {},
   "source": [
    "#### Clean Data Without \"pay_hourly\""
   ]
  },
  {
   "cell_type": "code",
   "execution_count": 23,
   "metadata": {},
   "outputs": [],
   "source": [
    "import matplotlib.pyplot as plt\n",
    "import numpy as np\n",
    "\n",
    "def clean_pay_noexist(collection, col_name):\n",
    "    ori_doc = collection.count_documents({})\n",
    "    query = {\"pay.pay_hourly\" : {\"$exists\": False}}\n",
    "    collection.delete_many(query)\n",
    "    cur_doc = collection.count_documents({})\n",
    "    print(col_name , \"collection cleaned data: \", ori_doc - cur_doc)"
   ]
  },
  {
   "cell_type": "code",
   "execution_count": 24,
   "metadata": {},
   "outputs": [
    {
     "name": "stdout",
     "output_type": "stream",
     "text": [
      "software_engineer_pay collection cleaned data:  0\n",
      "technical_manager_pay collection cleaned data:  0\n",
      "data_scientist_pay collection cleaned data:  0\n",
      "researcher_pay collection cleaned data:  0\n",
      "cloud_developer_pay collection cleaned data:  0\n"
     ]
    }
   ],
   "source": [
    "client = pymongo.MongoClient(\"mongodb://localhost:27017/\")\n",
    "db = client[\"bigdata\"]\n",
    "\n",
    "for i in range(len(pay_collection_list)):\n",
    "   clean_pay_noexist(db[pay_collection_list[i]],pay_collection_list[i])"
   ]
  },
  {
   "attachments": {},
   "cell_type": "markdown",
   "metadata": {},
   "source": [
    "#### Clean Duplicate Data"
   ]
  },
  {
   "cell_type": "code",
   "execution_count": 52,
   "metadata": {},
   "outputs": [],
   "source": [
    "def clean_duplicate(collection, col_name):\n",
    "    print(col_name, \"before clean duplicate:\" ,collection.count_documents({}))\n",
    "    if \"pay\" in col_name:\n",
    "    # Find duplicatedata\n",
    "        deleteData = collection.aggregate([\n",
    "        {\n",
    "            \"$group\": {\n",
    "            '_id': { 'field1': \"$job_details\"},\n",
    "            'count': { \"$sum\": 1 },\n",
    "            'uniqueIds': { \"$addToSet\": \"$_id\" }\n",
    "            }\n",
    "        },\n",
    "        {\n",
    "            \"$match\": {\n",
    "            'count': { \"$gt\": 1 }\n",
    "            }\n",
    "        }\n",
    "        ])\n",
    "    else:\n",
    "        deleteData = collection.aggregate([\n",
    "        {\n",
    "            \"$group\": {\n",
    "            '_id': { 'field1': \"$job_apply_link\"},\n",
    "            'count': { \"$sum\": 1 },\n",
    "            'uniqueIds': { \"$addToSet\": \"$_id\" }\n",
    "            }\n",
    "        },\n",
    "        {\n",
    "            \"$match\": {\n",
    "            'count': { \"$gt\": 1 }\n",
    "            }\n",
    "        }\n",
    "        ])\n",
    "    first=True\n",
    "    for d in deleteData:\n",
    "        first=True\n",
    "        for did in d['uniqueIds']:\n",
    "            if not first:    # don't delete first\n",
    "                collection.delete_one({'_id':did});\n",
    "            first=False\n",
    "    print(col_name, \"after clean duplicate:\" ,collection.count_documents({}))"
   ]
  },
  {
   "cell_type": "code",
   "execution_count": 53,
   "metadata": {},
   "outputs": [
    {
     "name": "stdout",
     "output_type": "stream",
     "text": [
      "software_engineer_pay before clean duplicate: 66\n",
      "software_engineer_pay after clean duplicate: 66\n",
      "technical_manager_pay before clean duplicate: 1\n",
      "technical_manager_pay after clean duplicate: 1\n",
      "data_scientist_pay before clean duplicate: 39\n",
      "data_scientist_pay after clean duplicate: 39\n",
      "researcher_pay before clean duplicate: 4\n",
      "researcher_pay after clean duplicate: 4\n",
      "cloud_developer_pay before clean duplicate: 0\n",
      "cloud_developer_pay after clean duplicate: 0\n",
      "software_engineer before clean duplicate: 369\n",
      "software_engineer after clean duplicate: 232\n",
      "technical_manager before clean duplicate: 347\n",
      "technical_manager after clean duplicate: 228\n",
      "data_scientist before clean duplicate: 366\n",
      "data_scientist after clean duplicate: 249\n",
      "researcher before clean duplicate: 370\n",
      "researcher after clean duplicate: 227\n",
      "cloud_developer before clean duplicate: 369\n",
      "cloud_developer after clean duplicate: 217\n"
     ]
    }
   ],
   "source": [
    "for item in pay_collection_list:\n",
    "    collection = db[item]\n",
    "    clean_duplicate(collection, item)\n",
    "\n",
    "for item in collection_list:\n",
    "    collection = db[item]\n",
    "    clean_duplicate(collection, item)\n"
   ]
  },
  {
   "attachments": {},
   "cell_type": "markdown",
   "metadata": {},
   "source": [
    "### Data Analyse (Plot salary of different jobs and locations)\n",
    "A simple example using our data"
   ]
  },
  {
   "cell_type": "code",
   "execution_count": 57,
   "metadata": {},
   "outputs": [],
   "source": [
    "def plot_salary(pay_collection, job_title) :\n",
    "    query = {\"pay.pay_hourly\" : {\"$gt\": 0}}\n",
    "    documents = pay_collection.find(query)\n",
    "    job_name = []\n",
    "    salary = []\n",
    "    for doc in documents:\n",
    "        try:\n",
    "            pay_per_year = doc['pay']['pay_yearly']\n",
    "            salary.append(pay_per_year)\n",
    "            job_name.append(job_title)\n",
    "        except KeyError:\n",
    "            continue\n",
    "    return salary, job_name"
   ]
  },
  {
   "cell_type": "code",
   "execution_count": 62,
   "metadata": {},
   "outputs": [
    {
     "name": "stdout",
     "output_type": "stream",
     "text": [
      "[184000.0, 124000.0, 124000.0, 124000.0, 124000.0, 122000.0, 122000.0, 122000.0, 122000.0, 100000.0, 100000.0, 100000.0, 100000.0, 102000.0, 102000.0, 36000.0, 102000.0, 102000.0, 102000.0, 102000.0, 102000.0, 102000.0, 102000.0, 102000.0, 100000.0, 100000.0, 100000.0, 100000.0, 100000.0, 100000.0, 124000.0, 124000.0, 124000.0, 124000.0, 122000.0, 122000.0, 122000.0, 146000.0, 146000.0, 146000.0, 146000.0, 146000.0, 146000.0, 146000.0, 146000.0, 146000.0, 146000.0, 146000.0, 120000.0, 146000.0, 146000.0, 120000.0, 146000.0, 146000.0, 146000.0, 146000.0, 146000.0, 146000.0, 146000.0, 146000.0, 120000.0, 146000.0, 146000.0, 146000.0, 146000.0, 146000.0, 44000.0, 122000.0, 122000.0, 122000.0, 122000.0, 122000.0, 124000.0, 124000.0, 124000.0, 96000.0, 98000.0, 122000, 122000.0, 114000.0, 98000.0, 96000.0, 96000.0, 96000.0, 96000.0, 96000.0, 96000.0, 96000.0, 96000.0, 96000.0, 96000.0, 96000.0, 96000.0, 96000.0, 96000.0, 96000.0, 96000.0, 96000.0, 96000.0, 96000.0, 96000.0, 96000.0, 96000.0, 98000.0, 98000.0, 98000.0, 96000.0, 36000.0, 34000.0, 34000.0]\n"
     ]
    },
    {
     "data": {
      "image/png": "[encoded data removed]",
      "text/plain": [
       "<Figure size 640x480 with 1 Axes>"
      ]
     },
     "metadata": {},
     "output_type": "display_data"
    }
   ],
   "source": [
    "import matplotlib.pyplot as plt\n",
    "import numpy as np\n",
    "client = pymongo.MongoClient(\"mongodb://localhost:27017/\")\n",
    "db = client[\"bigdata\"]\n",
    "salary_list = []\n",
    "job_list = []\n",
    "for item in pay_collection_list:\n",
    "    collection = db[item]\n",
    "    salary, job_name = plot_salary(collection, item[0:-4])\n",
    "    for data in salary:\n",
    "        salary_list.append(data)\n",
    "    for name in job_name:\n",
    "        job_list.append(name)\n",
    "\n",
    "\n",
    "print(salary_list)\n",
    "y = np.array(salary_list)\n",
    "x = np.array(job_list)\n",
    "plt.scatter(x, y)\n",
    "plt.title(\"jobs salary per year($)\")\n",
    "plt.show()"
   ]
  }
 ],
 "metadata": {
  "kernelspec": {
   "display_name": "Python 3",
   "language": "python",
   "name": "python3"
  },
  "language_info": {
   "codemirror_mode": {
    "name": "ipython",
    "version": 3
   },
   "file_extension": ".py",
   "mimetype": "text/x-python",
   "name": "python",
   "nbconvert_exporter": "python",
   "pygments_lexer": "ipython3",
   "version": "3.8.9 (default, Jul 19 2021, 09:37:30) \n[Clang 13.0.0 (clang-1300.0.27.3)]"
  },
  "orig_nbformat": 4,
  "vscode": {
   "interpreter": {
    "hash": "31f2aee4e71d21fbe5cf8b01ff0e069b9275f58929596ceb00d14d90e3e16cd6"
   }
  }
 },
 "nbformat": 4,
 "nbformat_minor": 2
}
